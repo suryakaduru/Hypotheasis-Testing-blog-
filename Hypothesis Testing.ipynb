{
 "cells": [
  {
   "cell_type": "markdown",
   "id": "6a3a27a2-35a9-41be-9201-311536f8fe0f",
   "metadata": {},
   "source": [
    "### Paired T-test"
   ]
  },
  {
   "cell_type": "code",
   "execution_count": null,
   "id": "0911e0fb-9d36-4249-95c1-7dd7994b298b",
   "metadata": {},
   "outputs": [],
   "source": [
    "## Import the packages\n",
    "import numpy as np\n",
    "from scipy import stats\n",
    "\n",
    "## Define 2 groups with their respective data\n",
    "#Sample Size\n",
    "N = 10.0\n",
    "#Data of group 1\n",
    "a = np.array([42.1, 80.0, 30.0, 45.8, 57.7, 80.0, 82.4, 66.2, 66.9, 79.0])\n",
    "#Data of group 2\n",
    "b = np.array([80.7, 85.1, 88.6, 81.7, 69.8, 79.5, 107.2, 69.3, 80.9, 63.0])\n",
    "\n",
    "t2, p2 = stats.ttest_ind(a,b)\n",
    "print(\"t = \" + str(t2))\n",
    "print(\"p = \" + str(p2))"
   ]
  },
  {
   "cell_type": "markdown",
   "id": "ff7872b5-7777-40ef-905f-bea5ca099adf",
   "metadata": {},
   "source": [
    "### one sample T-test"
   ]
  },
  {
   "cell_type": "code",
   "execution_count": null,
   "id": "a4c8ec96-6827-4aad-b919-edf2668673b3",
   "metadata": {},
   "outputs": [],
   "source": [
    "import numpy as np\n",
    "from scipy.stats import ttest_1samp\n",
    "\n",
    "\n",
    "#Sample Size\n",
    "N = 10.0\n",
    "#Data of group 1\n",
    "weights = np.array([42.1, 80.0, 30.0, 45.8, 57.7, 80.0, 82.4, 66.2, 66.9, 79.0])\n",
    "tset, pval = ttest_1samp(weights, 50)\n",
    "print(\"p-values\",pval)\n",
    "if pval < 0.05:    # alpha value is 0.05 or 5%\n",
    "    print(\" we are rejecting null hypothesis\")\n",
    "else:\n",
    "    print(\"we are accepting null hypothesis\")\n"
   ]
  },
  {
   "cell_type": "markdown",
   "id": "f081c83e-8ed2-4f14-83cb-941be5cb3980",
   "metadata": {},
   "source": [
    "### One-sample Z-test"
   ]
  },
  {
   "cell_type": "code",
   "execution_count": null,
   "id": "c3e303f4-1fb6-45e0-82e0-2fd79793dc16",
   "metadata": {},
   "outputs": [],
   "source": [
    "import pandas as pd\n",
    "from scipy import stats\n",
    "from statsmodels.stats import weightstats as stests\n",
    "# Sample data\n",
    "\n",
    "data=pd.read_csv(r\"weight-height.csv\",nrows=20)\n",
    "# Perform the Z-test\n",
    "z_statistic, p_value = stests.ztest(data['Weight'],value=180)\n",
    "\n",
    "# Print the results\n",
    "print(\"Z-statistic:\", z_statistic)\n",
    "print(\"P-value:\", p_value)\n",
    "if p_value < 0.05:    # alpha value is 0.05 or 5%\n",
    "    print(\" we are rejecting null hypothesis\")\n",
    "else:\n",
    "    print(\"we are accepting null hypothesis\")"
   ]
  },
  {
   "cell_type": "markdown",
   "id": "4c2e38e6-4385-49d5-99cb-5cd1964fd3f0",
   "metadata": {},
   "source": [
    "### Two-sample Z-test"
   ]
  },
  {
   "cell_type": "code",
   "execution_count": null,
   "id": "c9972328-6cb5-44d7-8ddf-ac04ad7f863f",
   "metadata": {},
   "outputs": [],
   "source": [
    "import numpy as np\n",
    "from statsmodels.stats.weightstats import ztest\n",
    "\n",
    "# Sample data\n",
    "sample1 = [10, 12, 14, 16, 18]\n",
    "sample2 = [11, 13, 15, 17, 19]\n",
    "\n",
    "# Calculate z-score and p-value\n",
    "z_score, p_value = ztest(sample1, sample2)\n",
    "\n",
    "print(\"Z-score:\", z_score)\n",
    "print(\"P-value:\", p_value)\n",
    "if p_value < 0.05:    # alpha value is 0.05 or 5%\n",
    "    print(\" we are rejecting null hypothesis\")\n",
    "else:\n",
    "    print(\"we are accepting null hypothesis\")"
   ]
  },
  {
   "cell_type": "markdown",
   "id": "89e69e82-e617-40bc-a7ae-4a6702f980b9",
   "metadata": {},
   "source": [
    "### One-way Anova test"
   ]
  },
  {
   "cell_type": "code",
   "execution_count": null,
   "id": "08665585",
   "metadata": {},
   "outputs": [],
   "source": [
    "from scipy import stats\n",
    "# Generate some fake data\n",
    "data1 = [0.873, 0.871, 0.883, 0.872, 0.869, 0.878, 0.881]\n",
    "data2 = [0.863, 0.858, 0.871, 0.869, 0.866, 0.872, 0.867]\n",
    "data3 = [0.856, 0.857, 0.858, 0.860, 0.853, 0.859, 0.855]\n",
    "# Perform the ANOVA\n",
    "statistic, p_value = stats.f_oneway(data1, data2, data3)\n",
    "# Print the results\n",
    "print(\"Statistic:\", statistic)\n",
    "print(\"p-value:\", p_value)\n",
    "# Interpret the results\n",
    "if p_value < 0.05:\n",
    "    print(\"The differences between the means are significant.\")\n",
    "else:\n",
    "    print(\"The differences between the means are not significant.\")"
   ]
  },
  {
   "cell_type": "markdown",
   "id": "3d74b418-0368-4594-9757-0ee7c5025e0a",
   "metadata": {},
   "source": [
    "### Two-way ANOVA\n"
   ]
  },
  {
   "cell_type": "code",
   "execution_count": null,
   "id": "c1d826d6-e3dd-4cff-8942-2bba3e403510",
   "metadata": {},
   "outputs": [],
   "source": [
    "from statsmodels.formula.api import ols\n",
    "from statsmodels.stats.anova import anova_lm\n",
    "import pandas as pd\n",
    "\n",
    "# Sample data\n",
    "data = {'species': ['A', 'A', 'A', 'B', 'B', 'B', 'C', 'C', 'C'],\n",
    "        'height': [1, 2, 3, 4, 5, 6, 7, 8, 9],\n",
    "        'width': [2, 3, 4, 5, 6, 7, 8, 9, 10]}\n",
    "df = pd.DataFrame(data)\n",
    "\n",
    "# Perform ANOVA\n",
    "model = ols('height ~ species + width', data=df).fit()\n",
    "aov_table = anova_lm(model, typ=2)\n",
    "\n",
    "# Print results\n",
    "print(aov_table)\n"
   ]
  },
  {
   "cell_type": "markdown",
   "id": "475c52c1-bdee-4179-9f4a-c0026c06c688",
   "metadata": {},
   "source": [
    "### N-way ANOVA"
   ]
  },
  {
   "cell_type": "code",
   "execution_count": null,
   "id": "1099f0ee-5057-4d0d-bb56-285dafad35a7",
   "metadata": {},
   "outputs": [],
   "source": [
    "from statsmodels.formula.api import ols\n",
    "from statsmodels.stats.anova import anova_lm\n",
    "import pandas as pd\n",
    "\n",
    "# Sample data\n",
    "data = {'species': ['A', 'A', 'A', 'B', 'B', 'B', 'C', 'C', 'C'],\n",
    "        'height': [1, 2, 3, 4, 5, 6, 7, 8, 9],\n",
    "        'width': [2, 3, 4, 5, 6, 7, 8, 9, 10],\n",
    "        'depth': [3, 4, 5, 6, 7, 8, 9, 10, 11]}\n",
    "df = pd.DataFrame(data)\n",
    "\n",
    "# Perform ANOVA\n",
    "model = ols('height ~ species + width + depth', data=df).fit()\n",
    "aov_table = anova_lm(model, typ=2)\n",
    "# Print results\n",
    "print(aov_table)"
   ]
  },
  {
   "cell_type": "markdown",
   "id": "d816f23f-22f6-418c-99f4-c8d13e4d9e01",
   "metadata": {},
   "source": [
    "### chi-square Test"
   ]
  },
  {
   "cell_type": "code",
   "execution_count": null,
   "id": "f6f3cc42-cd5c-426c-973c-fcf472a155d0",
   "metadata": {},
   "outputs": [],
   "source": [
    "#import libraries\n",
    "\n",
    "import numpy as np\n",
    "from scipy.stats import chi2_contingency\n",
    "\n",
    "# Create a contingency table containing the observed data\n",
    "\n",
    "observed = np.array([[100, 50], [200, 75]])\n",
    "\n",
    "#Perform the chi-square test using the chi2_contingency function\n",
    "\n",
    "chi2, p, dof, expected = chi2_contingency(observed)\n",
    "\n",
    "#evaluation\n",
    "if p < 0.05:\n",
    "    print(\"There is a significant difference between the observed and expected data\")\n",
    "else:\n",
    "    print(\"There is no significant difference between the observed and expected data\")"
   ]
  },
  {
   "cell_type": "code",
   "execution_count": null,
   "id": "8a2b0fa5-a28f-4079-9ffb-7853672bdefd",
   "metadata": {},
   "outputs": [],
   "source": []
  }
 ],
 "metadata": {
  "kernelspec": {
   "display_name": "Python 3 (ipykernel)",
   "language": "python",
   "name": "python3"
  },
  "language_info": {
   "codemirror_mode": {
    "name": "ipython",
    "version": 3
   },
   "file_extension": ".py",
   "mimetype": "text/x-python",
   "name": "python",
   "nbconvert_exporter": "python",
   "pygments_lexer": "ipython3",
   "version": "3.10.8"
  }
 },
 "nbformat": 4,
 "nbformat_minor": 5
}
